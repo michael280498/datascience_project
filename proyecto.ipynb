{
 "cells": [
  {
   "cell_type": "code",
   "execution_count": 53,
   "metadata": {},
   "outputs": [],
   "source": [
    "import numpy as np\n",
    "x = np.load(\"proyecto_training_data.npy\")\n",
    "b = int(len(x)*0.8)\n",
    "\n",
    "data_train = x[0:b]\n",
    "data_validate = x[b:len(x)]\n",
    "\n",
    "media= np.nanmean(data_train)\n",
    "valor_max=np.nanmax(data_train)\n",
    "valor_min=np.nanmin(data_train)\n",
    "ptp= np.ptp(x, axis=1)\n",
    "desv= np.nanstd(x)\n",
    "\n"
   ]
  }
 ],
 "metadata": {
  "kernelspec": {
   "display_name": "Python 3",
   "language": "python",
   "name": "python3"
  },
  "language_info": {
   "codemirror_mode": {
    "name": "ipython",
    "version": 3
   },
   "file_extension": ".py",
   "mimetype": "text/x-python",
   "name": "python",
   "nbconvert_exporter": "python",
   "pygments_lexer": "ipython3",
   "version": "3.7.6"
  }
 },
 "nbformat": 4,
 "nbformat_minor": 4
}
